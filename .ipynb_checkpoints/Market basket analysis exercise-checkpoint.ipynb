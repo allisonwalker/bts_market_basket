{
 "cells": [
  {
   "cell_type": "markdown",
   "metadata": {},
   "source": [
    "## Market Basket Analysis - ADA - Allison Walker"
   ]
  },
  {
   "cell_type": "markdown",
   "metadata": {},
   "source": [
    "For this exercise, we will use the file: transactions.csv\n",
    "\n",
    "This file contains a tabular market basket dataset in csv format. \n",
    "Each row contains one transaction, i.e.: a basket of items.\n",
    "Items are separated by \",\"\n",
    "Each row has the same number of columns. To achieve that, there are empty placeholders.\n",
    "We don't consider more than one item of a kind in each row. Each item=1 unit.\n",
    "The information has been pre-processed to ensure the naming is consistent, i.e.: one item is always spelled in the same way.\n",
    "The goal of this exercise is to calculate the support of bread and the support of rice cakes in this dataset.\n",
    "\n",
    "S(bread)=\n",
    "\n",
    "S(rice cakes)=\n",
    "\n",
    " \n",
    "\n",
    "Please produce a small report presenting the results and explaining every step of the way, in order to reproduce the results (e.g.: tools, approach). \n",
    "\n",
    " \n",
    "\n",
    "N.B: you can use any tool, or combination of tools you like!"
   ]
  },
  {
   "cell_type": "code",
   "execution_count": 188,
   "metadata": {},
   "outputs": [],
   "source": [
    "import pandas as pd\n",
    "import numpy as np\n",
    "\n",
    "import matplotlib.pyplot as plt\n",
    "import seaborn as sn\n",
    "\n",
    "%matplotlib inline"
   ]
  },
  {
   "cell_type": "code",
   "execution_count": 189,
   "metadata": {},
   "outputs": [
    {
     "data": {
      "text/html": [
       "<div>\n",
       "<style scoped>\n",
       "    .dataframe tbody tr th:only-of-type {\n",
       "        vertical-align: middle;\n",
       "    }\n",
       "\n",
       "    .dataframe tbody tr th {\n",
       "        vertical-align: top;\n",
       "    }\n",
       "\n",
       "    .dataframe thead th {\n",
       "        text-align: right;\n",
       "    }\n",
       "</style>\n",
       "<table border=\"1\" class=\"dataframe\">\n",
       "  <thead>\n",
       "    <tr style=\"text-align: right;\">\n",
       "      <th></th>\n",
       "      <th>1</th>\n",
       "      <th>2</th>\n",
       "      <th>3</th>\n",
       "      <th>4</th>\n",
       "      <th>5</th>\n",
       "      <th>6</th>\n",
       "      <th>7</th>\n",
       "      <th>8</th>\n",
       "      <th>9</th>\n",
       "      <th>10</th>\n",
       "      <th>11</th>\n",
       "      <th>12</th>\n",
       "      <th>13</th>\n",
       "      <th>14</th>\n",
       "      <th>15</th>\n",
       "      <th>16</th>\n",
       "    </tr>\n",
       "  </thead>\n",
       "  <tbody>\n",
       "    <tr>\n",
       "      <th>0</th>\n",
       "      <td>dishwasher soap</td>\n",
       "      <td>toilet papper</td>\n",
       "      <td></td>\n",
       "      <td></td>\n",
       "      <td></td>\n",
       "      <td></td>\n",
       "      <td></td>\n",
       "      <td></td>\n",
       "      <td></td>\n",
       "      <td></td>\n",
       "      <td></td>\n",
       "      <td></td>\n",
       "      <td></td>\n",
       "      <td></td>\n",
       "      <td></td>\n",
       "      <td></td>\n",
       "    </tr>\n",
       "    <tr>\n",
       "      <th>1</th>\n",
       "      <td>batteries</td>\n",
       "      <td></td>\n",
       "      <td></td>\n",
       "      <td></td>\n",
       "      <td></td>\n",
       "      <td></td>\n",
       "      <td></td>\n",
       "      <td></td>\n",
       "      <td></td>\n",
       "      <td></td>\n",
       "      <td></td>\n",
       "      <td></td>\n",
       "      <td></td>\n",
       "      <td></td>\n",
       "      <td></td>\n",
       "      <td></td>\n",
       "    </tr>\n",
       "    <tr>\n",
       "      <th>2</th>\n",
       "      <td>onion</td>\n",
       "      <td>rice cakes</td>\n",
       "      <td></td>\n",
       "      <td></td>\n",
       "      <td></td>\n",
       "      <td></td>\n",
       "      <td></td>\n",
       "      <td></td>\n",
       "      <td></td>\n",
       "      <td></td>\n",
       "      <td></td>\n",
       "      <td></td>\n",
       "      <td></td>\n",
       "      <td></td>\n",
       "      <td></td>\n",
       "      <td></td>\n",
       "    </tr>\n",
       "    <tr>\n",
       "      <th>3</th>\n",
       "      <td>eggs</td>\n",
       "      <td></td>\n",
       "      <td></td>\n",
       "      <td></td>\n",
       "      <td></td>\n",
       "      <td></td>\n",
       "      <td></td>\n",
       "      <td></td>\n",
       "      <td></td>\n",
       "      <td></td>\n",
       "      <td></td>\n",
       "      <td></td>\n",
       "      <td></td>\n",
       "      <td></td>\n",
       "      <td></td>\n",
       "      <td></td>\n",
       "    </tr>\n",
       "    <tr>\n",
       "      <th>4</th>\n",
       "      <td>bread</td>\n",
       "      <td></td>\n",
       "      <td></td>\n",
       "      <td></td>\n",
       "      <td></td>\n",
       "      <td></td>\n",
       "      <td></td>\n",
       "      <td></td>\n",
       "      <td></td>\n",
       "      <td></td>\n",
       "      <td></td>\n",
       "      <td></td>\n",
       "      <td></td>\n",
       "      <td></td>\n",
       "      <td></td>\n",
       "      <td></td>\n",
       "    </tr>\n",
       "    <tr>\n",
       "      <th>5</th>\n",
       "      <td>orange</td>\n",
       "      <td>carrot</td>\n",
       "      <td>beef</td>\n",
       "      <td>potato</td>\n",
       "      <td>rice</td>\n",
       "      <td>soup pasta</td>\n",
       "      <td>basilico</td>\n",
       "      <td>zuchini</td>\n",
       "      <td>lemon</td>\n",
       "      <td>beetrot</td>\n",
       "      <td>rice milk</td>\n",
       "      <td>pumpkin</td>\n",
       "      <td>tomato</td>\n",
       "      <td>eggs</td>\n",
       "      <td>parsnip</td>\n",
       "      <td>leek</td>\n",
       "    </tr>\n",
       "  </tbody>\n",
       "</table>\n",
       "</div>"
      ],
      "text/plain": [
       "                1              2     3       4     5           6         7   \\\n",
       "0  dishwasher soap  toilet papper                                             \n",
       "1        batteries                                                            \n",
       "2            onion     rice cakes                                             \n",
       "3             eggs                                                            \n",
       "4            bread                                                            \n",
       "5           orange         carrot  beef  potato  rice  soup pasta  basilico   \n",
       "\n",
       "        8      9        10         11       12      13    14       15    16  \n",
       "0                                                                            \n",
       "1                                                                            \n",
       "2                                                                            \n",
       "3                                                                            \n",
       "4                                                                            \n",
       "5  zuchini  lemon  beetrot  rice milk  pumpkin  tomato  eggs  parsnip  leek  "
      ]
     },
     "execution_count": 189,
     "metadata": {},
     "output_type": "execute_result"
    }
   ],
   "source": [
    "# First we import the csv to dataframe, and remove the nan values\n",
    "\n",
    "data = pd.read_csv('transactions.csv', names = range(1,17), index_col = False)\n",
    "data = data.replace(np.nan, '', regex=True)\n",
    "data.head(6)"
   ]
  },
  {
   "cell_type": "code",
   "execution_count": 190,
   "metadata": {},
   "outputs": [
    {
     "data": {
      "text/plain": [
       "34"
      ]
     },
     "execution_count": 190,
     "metadata": {},
     "output_type": "execute_result"
    }
   ],
   "source": [
    "# Now we convert the dataframe to a list of lists so that it can be processed using TransactionEncoder\n",
    "\n",
    "new = data.values.tolist()\n",
    "len(new)"
   ]
  },
  {
   "cell_type": "code",
   "execution_count": 191,
   "metadata": {},
   "outputs": [],
   "source": [
    "from mlxtend.preprocessing import TransactionEncoder"
   ]
  },
  {
   "cell_type": "code",
   "execution_count": 192,
   "metadata": {},
   "outputs": [
    {
     "data": {
      "text/plain": [
       "['',\n",
       " 'apple',\n",
       " 'basilico',\n",
       " 'batteries',\n",
       " 'beans',\n",
       " 'beef',\n",
       " 'beetrot',\n",
       " 'bread',\n",
       " 'bread sticks',\n",
       " 'broccoli',\n",
       " 'buckwheat cakes',\n",
       " 'cabbage',\n",
       " 'carob spread',\n",
       " 'carrot',\n",
       " 'chicken',\n",
       " 'chickpeas',\n",
       " 'chocolate bread',\n",
       " 'cinamon sticks',\n",
       " 'clams',\n",
       " 'coffee',\n",
       " 'compote',\n",
       " 'cookies',\n",
       " 'dehodorant',\n",
       " 'dishwasher cleaning soap',\n",
       " 'dishwasher soap',\n",
       " 'dishwasher tablets',\n",
       " 'eggs',\n",
       " 'fish',\n",
       " 'ham',\n",
       " 'hummus',\n",
       " 'kitchen paper',\n",
       " 'leek',\n",
       " 'lemon',\n",
       " 'lentills',\n",
       " 'miso',\n",
       " 'mushrooms',\n",
       " 'olive oil',\n",
       " 'onion',\n",
       " 'orange',\n",
       " 'parsnip',\n",
       " 'pastry pasta',\n",
       " 'pear',\n",
       " 'plastic bag',\n",
       " 'potato',\n",
       " 'pumpkin',\n",
       " 'rice',\n",
       " 'rice cakes',\n",
       " 'rice milk',\n",
       " 'rubbish bags',\n",
       " 'salmon',\n",
       " 'sardine',\n",
       " 'soup pasta',\n",
       " 'spinaches',\n",
       " 'tea',\n",
       " 'toilet cleaning soap',\n",
       " 'toilet papper',\n",
       " 'tomato',\n",
       " 'tonic water',\n",
       " 'tortilla',\n",
       " 'tuna',\n",
       " 'unknown',\n",
       " 'water',\n",
       " 'zuchini']"
      ]
     },
     "execution_count": 192,
     "metadata": {},
     "output_type": "execute_result"
    }
   ],
   "source": [
    "# the below code learns the unique labels in the dataset(items) and transforms the list of lists into\n",
    "# a One-Hot Encoded boolean array\n",
    "\n",
    "te = TransactionEncoder()\n",
    "te_ary = te.fit(new).transform(new)\n",
    "\n",
    "# the labels that the transaction encoder found are:\n",
    "te.columns_"
   ]
  },
  {
   "cell_type": "code",
   "execution_count": 195,
   "metadata": {},
   "outputs": [
    {
     "data": {
      "text/plain": [
       "Index(['apple', 'basilico', 'batteries', 'beans', 'beef', 'beetrot', 'bread',\n",
       "       'bread sticks', 'broccoli', 'buckwheat cakes', 'cabbage',\n",
       "       'carob spread', 'carrot', 'chicken', 'chickpeas', 'chocolate bread',\n",
       "       'cinamon sticks', 'clams', 'coffee', 'compote', 'cookies', 'dehodorant',\n",
       "       'dishwasher cleaning soap', 'dishwasher soap', 'dishwasher tablets',\n",
       "       'eggs', 'fish', 'ham', 'hummus', 'kitchen paper', 'leek', 'lemon',\n",
       "       'lentills', 'miso', 'mushrooms', 'olive oil', 'onion', 'orange',\n",
       "       'parsnip', 'pastry pasta', 'pear', 'plastic bag', 'potato', 'pumpkin',\n",
       "       'rice', 'rice cakes', 'rice milk', 'rubbish bags', 'salmon', 'sardine',\n",
       "       'soup pasta', 'spinaches', 'tea', 'toilet cleaning soap',\n",
       "       'toilet papper', 'tomato', 'tonic water', 'tortilla', 'tuna', 'unknown',\n",
       "       'water', 'zuchini'],\n",
       "      dtype='object')"
      ]
     },
     "execution_count": 195,
     "metadata": {},
     "output_type": "execute_result"
    }
   ],
   "source": [
    "# Next we convert the array back to dataframe, and drop the first column (which represents nan values)\n",
    "\n",
    "df = pd.DataFrame(te_ary, columns=te.columns_)\n",
    "df = df.drop('', axis = 1)\n",
    "df.head()"
   ]
  },
  {
   "cell_type": "code",
   "execution_count": 194,
   "metadata": {},
   "outputs": [
    {
     "data": {
      "text/plain": [
       "(34, 62)"
      ]
     },
     "execution_count": 194,
     "metadata": {},
     "output_type": "execute_result"
    }
   ],
   "source": [
    "# To validate, we can see that we have 34 transactions and 62 items\n",
    "\n",
    "df.shape"
   ]
  },
  {
   "cell_type": "markdown",
   "metadata": {},
   "source": [
    "### Support calculation:###\n",
    "\n",
    "The support calculation is as follows:\n",
    "\n",
    "S(itemset) = transactions itemset / total transactions\n",
    "\n",
    "In order to calculate the support of bread and rice cakes, we therefore need:\n",
    "* the count of transactions with bread\n",
    "* the count of transactions with rice cakes\n",
    "* the total number of transactions\n"
   ]
  },
  {
   "cell_type": "code",
   "execution_count": 178,
   "metadata": {},
   "outputs": [
    {
     "data": {
      "text/plain": [
       "4"
      ]
     },
     "execution_count": 178,
     "metadata": {},
     "output_type": "execute_result"
    }
   ],
   "source": [
    "# count of transactions with bread\n",
    "\n",
    "len(df[df['bread'] == True])"
   ]
  },
  {
   "cell_type": "code",
   "execution_count": 179,
   "metadata": {},
   "outputs": [
    {
     "data": {
      "text/plain": [
       "7"
      ]
     },
     "execution_count": 179,
     "metadata": {},
     "output_type": "execute_result"
    }
   ],
   "source": [
    "# count of transactions with rice cakes\n",
    "\n",
    "len(df[df['rice cakes'] == True])"
   ]
  },
  {
   "cell_type": "code",
   "execution_count": 1,
   "metadata": {},
   "outputs": [
    {
     "ename": "NameError",
     "evalue": "name 'df' is not defined",
     "output_type": "error",
     "traceback": [
      "\u001b[0;31m---------------------------------------------------------------------------\u001b[0m",
      "\u001b[0;31mNameError\u001b[0m                                 Traceback (most recent call last)",
      "\u001b[0;32m<ipython-input-1-d192059010fd>\u001b[0m in \u001b[0;36m<module>\u001b[0;34m()\u001b[0m\n\u001b[1;32m      1\u001b[0m \u001b[0;31m# the total number of transactions\u001b[0m\u001b[0;34m\u001b[0m\u001b[0;34m\u001b[0m\u001b[0;34m\u001b[0m\u001b[0m\n\u001b[1;32m      2\u001b[0m \u001b[0;34m\u001b[0m\u001b[0m\n\u001b[0;32m----> 3\u001b[0;31m \u001b[0mlen\u001b[0m\u001b[0;34m(\u001b[0m\u001b[0mdf\u001b[0m\u001b[0;34m)\u001b[0m\u001b[0;34m\u001b[0m\u001b[0;34m\u001b[0m\u001b[0m\n\u001b[0m",
      "\u001b[0;31mNameError\u001b[0m: name 'df' is not defined"
     ]
    }
   ],
   "source": [
    "# the total number of transactions\n",
    "\n",
    "len(df)"
   ]
  },
  {
   "cell_type": "code",
   "execution_count": 187,
   "metadata": {},
   "outputs": [
    {
     "data": {
      "text/plain": [
       "0.118"
      ]
     },
     "execution_count": 187,
     "metadata": {},
     "output_type": "execute_result"
    }
   ],
   "source": [
    "# Support of Bread:\n",
    "\n",
    "round(len(df[df['bread'] == True]) / len(df), 3)"
   ]
  },
  {
   "cell_type": "code",
   "execution_count": 186,
   "metadata": {},
   "outputs": [
    {
     "data": {
      "text/plain": [
       "0.206"
      ]
     },
     "execution_count": 186,
     "metadata": {},
     "output_type": "execute_result"
    }
   ],
   "source": [
    "# Support of Rice Cakes:\n",
    "\n",
    "round(len(df[df['rice cakes'] == True]) / len(df), 3)"
   ]
  },
  {
   "cell_type": "markdown",
   "metadata": {},
   "source": [
    "Support is an indication of how frequently the items appear in the data.\n",
    "\n",
    "The support of bread is 11.8%, which means it appears in 11.8% of transactions.\n",
    "\n",
    "Rice cakes appear in 20.6% of transactions.\n"
   ]
  },
  {
   "cell_type": "code",
   "execution_count": null,
   "metadata": {},
   "outputs": [],
   "source": []
  }
 ],
 "metadata": {
  "kernelspec": {
   "display_name": "Python 3",
   "language": "python",
   "name": "python3"
  },
  "language_info": {
   "codemirror_mode": {
    "name": "ipython",
    "version": 3
   },
   "file_extension": ".py",
   "mimetype": "text/x-python",
   "name": "python",
   "nbconvert_exporter": "python",
   "pygments_lexer": "ipython3",
   "version": "3.6.8"
  }
 },
 "nbformat": 4,
 "nbformat_minor": 2
}
